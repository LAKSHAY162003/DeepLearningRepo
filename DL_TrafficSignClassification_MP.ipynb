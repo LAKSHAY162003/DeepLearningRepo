{
 "cells": [
  {
   "cell_type": "markdown",
   "id": "1d3907c1",
   "metadata": {},
   "source": [
    "#### - Lakshay , Utkarsh , Shikha , Khyati \n",
    "#### - Nsut 2025 Machine Learning Lab Project "
   ]
  },
  {
   "cell_type": "code",
   "execution_count": 1,
   "id": "fa06d3f6",
   "metadata": {},
   "outputs": [
    {
     "name": "stdout",
     "output_type": "stream",
     "text": [
      "Requirement already satisfied: tensorflow in c:\\users\\91931\\appdata\\local\\packages\\pythonsoftwarefoundation.python.3.11_qbz5n2kfra8p0\\localcache\\local-packages\\python311\\site-packages (2.14.0)Note: you may need to restart the kernel to use updated packages.\n",
      "\n",
      "Requirement already satisfied: keras in c:\\users\\91931\\appdata\\local\\packages\\pythonsoftwarefoundation.python.3.11_qbz5n2kfra8p0\\localcache\\local-packages\\python311\\site-packages (2.14.0)\n",
      "Collecting sklearn\n",
      "  Downloading sklearn-0.0.post10.tar.gz (3.6 kB)\n",
      "  Preparing metadata (setup.py): started\n",
      "  Preparing metadata (setup.py): finished with status 'error'\n"
     ]
    },
    {
     "name": "stderr",
     "output_type": "stream",
     "text": [
      "  error: subprocess-exited-with-error\n",
      "  \n",
      "  × python setup.py egg_info did not run successfully.\n",
      "  │ exit code: 1\n",
      "  ╰─> [18 lines of output]\n",
      "      The 'sklearn' PyPI package is deprecated, use 'scikit-learn'\n",
      "      rather than 'sklearn' for pip commands.\n",
      "      \n",
      "      Here is how to fix this error in the main use cases:\n",
      "      - use 'pip install scikit-learn' rather than 'pip install sklearn'\n",
      "      - replace 'sklearn' by 'scikit-learn' in your pip requirements files\n",
      "        (requirements.txt, setup.py, setup.cfg, Pipfile, etc ...)\n",
      "      - if the 'sklearn' package is used by one of your dependencies,\n",
      "        it would be great if you take some time to track which package uses\n",
      "        'sklearn' instead of 'scikit-learn' and report it to their issue tracker\n",
      "      - as a last resort, set the environment variable\n",
      "        SKLEARN_ALLOW_DEPRECATED_SKLEARN_PACKAGE_INSTALL=True to avoid this error\n",
      "      \n",
      "      More information is available at\n",
      "      https://github.com/scikit-learn/sklearn-pypi-package\n",
      "      \n",
      "      If the previous advice does not cover your use case, feel free to report it at\n",
      "      https://github.com/scikit-learn/sklearn-pypi-package/issues/new\n",
      "      [end of output]\n",
      "  \n",
      "  note: This error originates from a subprocess, and is likely not a problem with pip.\n",
      "error: metadata-generation-failed\n",
      "\n",
      "× Encountered error while generating package metadata.\n",
      "╰─> See above for output.\n",
      "\n",
      "note: This is an issue with the package mentioned above, not pip.\n",
      "hint: See above for details.\n",
      "\n",
      "[notice] A new release of pip available: 22.3.1 -> 23.3.1\n",
      "[notice] To update, run: C:\\Users\\91931\\AppData\\Local\\Microsoft\\WindowsApps\\PythonSoftwareFoundation.Python.3.11_qbz5n2kfra8p0\\python.exe -m pip install --upgrade pip\n"
     ]
    }
   ],
   "source": [
    "pip install tensorflow keras sklearn matplotlib pandas pillow opencv-python"
   ]
  },
  {
   "cell_type": "code",
   "execution_count": 3,
   "id": "476a8e5b",
   "metadata": {},
   "outputs": [],
   "source": [
    "#importing required modules to create this project.\n",
    "import numpy as np  #basic exploration and assist.\n",
    "import pandas as pd #basic exploration and assist.\n",
    "import matplotlib.pyplot as plt #to plot graphs.\n",
    "import cv2 #to classify image and assist recognition.\n",
    "import tensorflow as tf\n",
    "from PIL import Image #to create image arrays etc.\n",
    "import os #to allow operating system calls.\n",
    "from sklearn.model_selection import train_test_split #scikit learn to split, test and train the data.\n",
    "from tensorflow.keras.utils import to_categorical #to encode data to categories.\n",
    "from keras.models import Sequential, load_model #to create our model which is sequential.\n",
    "from keras.layers import Conv2D, MaxPool2D, Dense, Flatten, Dropout #to add layers to our model for accurate results."
   ]
  },
  {
   "cell_type": "markdown",
   "id": "7c6182e5",
   "metadata": {},
   "source": [
    "##### dataset exploration"
   ]
  },
  {
   "cell_type": "code",
   "execution_count": 4,
   "id": "64f65e22",
   "metadata": {},
   "outputs": [],
   "source": [
    "data = []\n",
    "labels = []\n",
    "classes = 43\n",
    "cur_path = os.getcwd()"
   ]
  },
  {
   "cell_type": "code",
   "execution_count": 10,
   "id": "3a8e061f",
   "metadata": {},
   "outputs": [],
   "source": [
    "#retrieving the images and their labels and appending said items in previously initialised lists.\n",
    "for i in range(classes):\n",
    "    path = os.path.join(cur_path,'../archive/Train/',str(i))\n",
    "    images = os.listdir(path)\n",
    "    for a in images:\n",
    "        try:\n",
    "            image = Image.open(path + '/'+ a)\n",
    "            image = image.resize((30,30))\n",
    "            image = np.array(image)\n",
    "            data.append(image)\n",
    "            labels.append(i)\n",
    "        except:\n",
    "            print(\"Error loading image\")"
   ]
  },
  {
   "cell_type": "code",
   "execution_count": 11,
   "id": "5d65f264",
   "metadata": {},
   "outputs": [
    {
     "name": "stdout",
     "output_type": "stream",
     "text": [
      "(39209, 30, 30, 3) (39209,)\n"
     ]
    }
   ],
   "source": [
    "#converting lists into numpy arrays to feed model.\n",
    "data = np.array(data)\n",
    "labels = np.array(labels)\n",
    "print(data.shape, labels.shape) #The shape of data obtained is (39209, 30, 30, 3) which means that there are 39,209 images of size 30×30 pixels and the last 3 means the data contains colored images (RGB value)"
   ]
  },
  {
   "cell_type": "code",
   "execution_count": 12,
   "id": "a03f93c1",
   "metadata": {},
   "outputs": [
    {
     "name": "stdout",
     "output_type": "stream",
     "text": [
      "(31367, 30, 30, 3) (7842, 30, 30, 3) (31367,) (7842,)\n"
     ]
    }
   ],
   "source": [
    "#splitting training and testing dataset\n",
    "X_train, X_test, y_train, y_test = train_test_split(data, labels, test_size=0.2, random_state=42)\n",
    "print(X_train.shape, X_test.shape, y_train.shape, y_test.shape)"
   ]
  },
  {
   "cell_type": "code",
   "execution_count": 13,
   "id": "3c65bbf9",
   "metadata": {},
   "outputs": [],
   "source": [
    "#converting the labels into one-hot encoding of categories.\n",
    "y_train = to_categorical(y_train, 43)\n",
    "y_test = to_categorical(y_test, 43)"
   ]
  },
  {
   "cell_type": "markdown",
   "id": "135baa31",
   "metadata": {},
   "source": [
    "##### building CNN model"
   ]
  },
  {
   "cell_type": "code",
   "execution_count": 14,
   "id": "fa2ab148",
   "metadata": {},
   "outputs": [],
   "source": [
    "#building the CNN model as CNN is best for image classification purposes.\n",
    "model = Sequential()\n",
    "model.add(Conv2D(filters=32, kernel_size=(5,5), activation='relu', input_shape=X_train.shape[1:])) #2D convolution layer class that creates a convolution kernel that is convolved with the layer input to produce a tensor of outputs.\n",
    "model.add(Conv2D(filters=32, kernel_size=(5,5), activation='relu'))\n",
    "model.add(MaxPool2D(pool_size=(2, 2))) #max pooling operation for 2D spatial data.\n",
    "model.add(Dropout(rate=0.25)) #applies dropout layer that randomly sets input units to 0 with a frequency of rate at each step during training time, which helps prevent overfitting.\n",
    "model.add(Conv2D(filters=64, kernel_size=(3, 3), activation='relu'))\n",
    "model.add(Conv2D(filters=64, kernel_size=(3, 3), activation='relu'))\n",
    "model.add(MaxPool2D(pool_size=(2, 2)))\n",
    "model.add(Dropout(rate=0.25))\n",
    "model.add(Flatten()) #flattens the input without affecting the batch size.\n",
    "model.add(Dense(256, activation='relu')) #regular densely-connected NN layer.\n",
    "model.add(Dropout(rate=0.5))\n",
    "model.add(Dense(43, activation='softmax'))"
   ]
  },
  {
   "cell_type": "markdown",
   "id": "7664a65f",
   "metadata": {},
   "source": [
    "##### training and validation of model"
   ]
  },
  {
   "cell_type": "code",
   "execution_count": 15,
   "id": "91832ffd",
   "metadata": {},
   "outputs": [
    {
     "name": "stdout",
     "output_type": "stream",
     "text": [
      "Epoch 1/15\n",
      "981/981 [==============================] - 61s 60ms/step - loss: 1.7571 - accuracy: 0.5572 - val_loss: 0.2849 - val_accuracy: 0.9356\n",
      "Epoch 2/15\n",
      "981/981 [==============================] - 59s 60ms/step - loss: 0.4939 - accuracy: 0.8614 - val_loss: 0.1614 - val_accuracy: 0.9579\n",
      "Epoch 3/15\n",
      "981/981 [==============================] - 58s 60ms/step - loss: 0.3050 - accuracy: 0.9146 - val_loss: 0.1015 - val_accuracy: 0.9754\n",
      "Epoch 4/15\n",
      "981/981 [==============================] - 60s 61ms/step - loss: 0.2528 - accuracy: 0.9303 - val_loss: 0.0754 - val_accuracy: 0.9813\n",
      "Epoch 5/15\n",
      "981/981 [==============================] - 62s 63ms/step - loss: 0.2287 - accuracy: 0.9388 - val_loss: 0.0559 - val_accuracy: 0.9865\n",
      "Epoch 6/15\n",
      "981/981 [==============================] - 60s 61ms/step - loss: 0.1978 - accuracy: 0.9466 - val_loss: 0.0591 - val_accuracy: 0.9832\n",
      "Epoch 7/15\n",
      "981/981 [==============================] - 60s 61ms/step - loss: 0.1898 - accuracy: 0.9496 - val_loss: 0.0573 - val_accuracy: 0.9851\n",
      "Epoch 8/15\n",
      "981/981 [==============================] - 60s 61ms/step - loss: 0.1785 - accuracy: 0.9522 - val_loss: 0.0442 - val_accuracy: 0.9889\n",
      "Epoch 9/15\n",
      "981/981 [==============================] - 59s 61ms/step - loss: 0.1880 - accuracy: 0.9539 - val_loss: 0.0575 - val_accuracy: 0.9862\n",
      "Epoch 10/15\n",
      "981/981 [==============================] - 58s 59ms/step - loss: 0.1595 - accuracy: 0.9578 - val_loss: 0.0589 - val_accuracy: 0.9823\n",
      "Epoch 11/15\n",
      "981/981 [==============================] - 55s 56ms/step - loss: 0.1680 - accuracy: 0.9575 - val_loss: 0.0526 - val_accuracy: 0.9872\n",
      "Epoch 12/15\n",
      "981/981 [==============================] - 55s 56ms/step - loss: 0.1971 - accuracy: 0.9507 - val_loss: 0.0405 - val_accuracy: 0.9894\n",
      "Epoch 13/15\n",
      "981/981 [==============================] - 62s 63ms/step - loss: 0.1666 - accuracy: 0.9576 - val_loss: 0.0444 - val_accuracy: 0.9892\n",
      "Epoch 14/15\n",
      "981/981 [==============================] - 71s 72ms/step - loss: 0.1553 - accuracy: 0.9612 - val_loss: 0.0425 - val_accuracy: 0.9897\n",
      "Epoch 15/15\n",
      "981/981 [==============================] - 66s 67ms/step - loss: 0.1533 - accuracy: 0.9629 - val_loss: 0.0591 - val_accuracy: 0.9841\n"
     ]
    },
    {
     "name": "stderr",
     "output_type": "stream",
     "text": [
      "C:\\Users\\91931\\AppData\\Local\\Packages\\PythonSoftwareFoundation.Python.3.11_qbz5n2kfra8p0\\LocalCache\\local-packages\\Python311\\site-packages\\keras\\src\\engine\\training.py:3079: UserWarning: You are saving your model as an HDF5 file via `model.save()`. This file format is considered legacy. We recommend using instead the native Keras format, e.g. `model.save('my_model.keras')`.\n",
      "  saving_api.save_model(\n"
     ]
    }
   ],
   "source": [
    "#compilation of the model\n",
    "model.compile(loss='categorical_crossentropy', optimizer='adam', metrics=['accuracy'])#we compile the model with Adam optimizer which performs well and loss is “categorical_crossentropy” because we have multiple classes to categorise.\n",
    "epochs = 15 #we tried with batch size 32 and 64. our model performed better with 64 batch size and after 15 epochs the accuracy was stable.\n",
    "history = model.fit(X_train, y_train, batch_size=32, epochs=epochs, validation_data=(X_test, y_test))\n",
    "model.save(\"my_model.h5\")"
   ]
  },
  {
   "cell_type": "code",
   "execution_count": 16,
   "id": "b281ef1d",
   "metadata": {},
   "outputs": [
    {
     "data": {
      "image/png": "[encoded data removed]",
      "text/plain": [
       "<Figure size 640x480 with 1 Axes>"
      ]
     },
     "metadata": {},
     "output_type": "display_data"
    },
    {
     "data": {
      "image/png": "[encoded data removed]",
      "text/plain": [
       "<Figure size 640x480 with 1 Axes>"
      ]
     },
     "metadata": {},
     "output_type": "display_data"
    }
   ],
   "source": [
    "#with matplotlib, we plot the graph for accuracy and the loss.\n",
    "plt.figure(0)\n",
    "plt.plot(history.history['accuracy'], label='training accuracy')\n",
    "plt.plot(history.history['val_accuracy'], label='val accuracy')\n",
    "plt.title('Accuracy')\n",
    "plt.xlabel('epochs')\n",
    "plt.ylabel('accuracy')\n",
    "plt.legend()\n",
    "plt.show()\n",
    "plt.figure(1)\n",
    "plt.plot(history.history['loss'], label='training loss')\n",
    "plt.plot(history.history['val_loss'], label='val loss')\n",
    "plt.title('Loss')\n",
    "plt.xlabel('epochs')\n",
    "plt.ylabel('loss')\n",
    "plt.legend()\n",
    "plt.show()"
   ]
  },
  {
   "cell_type": "markdown",
   "id": "08715aa2",
   "metadata": {},
   "source": [
    "##### teting model with test dataset"
   ]
  },
  {
   "cell_type": "code",
   "execution_count": 21,
   "id": "227bce90",
   "metadata": {},
   "outputs": [
    {
     "name": "stdout",
     "output_type": "stream",
     "text": [
      "395/395 [==============================] - 3s 8ms/step\n"
     ]
    }
   ],
   "source": [
    "#testing accuracy on test dataset\n",
    "from sklearn.metrics import accuracy_score\n",
    "y_test = pd.read_csv('../archive/Test.csv')\n",
    "labels = y_test[\"ClassId\"].values\n",
    "imgs = \"../archive/\" + y_test[\"Path\"].values\n",
    "data=[]\n",
    "for img in imgs:\n",
    "    image = Image.open(img)\n",
    "    image = image.resize((30,30))\n",
    "    data.append(np.array(image))\n",
    "X_test=np.array(data)\n",
    "predict_x=model.predict(X_test) \n",
    "classes_x=np.argmax(predict_x,axis=1)"
   ]
  },
  {
   "cell_type": "code",
   "execution_count": 22,
   "id": "4d885247",
   "metadata": {},
   "outputs": [
    {
     "name": "stdout",
     "output_type": "stream",
     "text": [
      "0.9474267616785431\n"
     ]
    },
    {
     "name": "stderr",
     "output_type": "stream",
     "text": [
      "C:\\Users\\91931\\AppData\\Local\\Packages\\PythonSoftwareFoundation.Python.3.11_qbz5n2kfra8p0\\LocalCache\\local-packages\\Python311\\site-packages\\keras\\src\\engine\\training.py:3079: UserWarning: You are saving your model as an HDF5 file via `model.save()`. This file format is considered legacy. We recommend using instead the native Keras format, e.g. `model.save('my_model.keras')`.\n",
      "  saving_api.save_model(\n"
     ]
    }
   ],
   "source": [
    "#accuracy with the test data\n",
    "from sklearn.metrics import accuracy_score\n",
    "print(accuracy_score(labels, classes_x)) #our model got a 95% accuracy.\n",
    "model.save('traffic_classifier.h5')"
   ]
  },
  {
   "cell_type": "code",
   "execution_count": 23,
   "id": "a9bb1539",
   "metadata": {},
   "outputs": [],
   "source": [
    "#imported required files for GUI. we are using tkinter as our core for the GUI.\n",
    "import tkinter as tk\n",
    "from tkinter import filedialog\n",
    "from tkinter import *\n",
    "from PIL import ImageTk, Image\n",
    "import numpy"
   ]
  },
  {
   "cell_type": "code",
   "execution_count": 24,
   "id": "3aba2ba7",
   "metadata": {},
   "outputs": [],
   "source": [
    "#loading the trained model to classify sign via keras.\n",
    "from keras.models import load_model\n",
    "model = load_model('traffic_classifier.h5')"
   ]
  },
  {
   "cell_type": "code",
   "execution_count": 25,
   "id": "1ac247b3",
   "metadata": {},
   "outputs": [],
   "source": [
    "#creating dictionary to label all traffic sign classes.\n",
    "classes = { 1:'Speed limit (20km/h)',\n",
    "            2:'Speed limit (30km/h)', \n",
    "            3:'Speed limit (50km/h)', \n",
    "            4:'Speed limit (60km/h)', \n",
    "            5:'Speed limit (70km/h)', \n",
    "            6:'Speed limit (80km/h)', \n",
    "            7:'End of speed limit (80km/h)', \n",
    "            8:'Speed limit (100km/h)', \n",
    "            9:'Speed limit (120km/h)', \n",
    "            10:'No passing', \n",
    "            11:'No passing veh over 3.5 tons', \n",
    "            12:'Right-of-way at intersection', \n",
    "            13:'Priority road', \n",
    "            14:'Yield', \n",
    "            15:'Stop', \n",
    "            16:'No vehicles', \n",
    "            17:'Veh > 3.5 tons prohibited', \n",
    "            18:'No entry', \n",
    "            19:'General caution', \n",
    "            20:'Dangerous curve left', \n",
    "            21:'Dangerous curve right', \n",
    "            22:'Double curve', \n",
    "            23:'Bumpy road', \n",
    "            24:'Slippery road', \n",
    "            25:'Road narrows on the right', \n",
    "            26:'Road work', \n",
    "            27:'Traffic signals', \n",
    "            28:'Pedestrians', \n",
    "            29:'Children crossing', \n",
    "            30:'Bicycles crossing', \n",
    "            31:'Beware of ice/snow',\n",
    "            32:'Wild animals crossing', \n",
    "            33:'End speed + passing limits', \n",
    "            34:'Turn right ahead', \n",
    "            35:'Turn left ahead', \n",
    "            36:'Ahead only', \n",
    "            37:'Go straight or right', \n",
    "            38:'Go straight or left', \n",
    "            39:'Keep right', \n",
    "            40:'Keep left', \n",
    "            41:'Roundabout mandatory', \n",
    "            42:'End of no passing', \n",
    "            43:'End no passing veh > 3.5 tons' }"
   ]
  },
  {
   "cell_type": "markdown",
   "id": "9e56a325",
   "metadata": {},
   "source": [
    "##### Run this kernel to execute program model"
   ]
  },
  {
   "cell_type": "code",
   "execution_count": 37,
   "id": "c95ba32b",
   "metadata": {},
   "outputs": [
    {
     "name": "stdout",
     "output_type": "stream",
     "text": [
      "1/1 [==============================] - 0s 21ms/step\n",
      "Priority road\n"
     ]
    }
   ],
   "source": [
    "#initialising the GUI (creating windows, buttons and functions).\n",
    "#creating GUI main window first.\n",
    "top=tk.Tk()\n",
    "top.geometry('800x600')\n",
    "top.title('Traffic Sign Classification')\n",
    "top.configure(background='#CDCDCD')\n",
    "label=Label(top,background='#CDCDCD', font=('arial',15,'bold'))\n",
    "sign_image = Label(top)\n",
    "#classify function to predict and classify the uploaded test image to give output.\n",
    "def classify(file_path):\n",
    "    global label_packed\n",
    "    image = Image.open(file_path)\n",
    "    image = image.resize((30,30))\n",
    "    image = numpy.expand_dims(image, axis=0)\n",
    "    image = numpy.array(image)\n",
    "    predict_classes = model.predict([image])[0] \n",
    "    pred = np.argmax(predict_classes)\n",
    "    sign = classes[pred+1]\n",
    "    print(sign)\n",
    "    label.configure(foreground='black', text=sign) \n",
    "#creating classify button ui that gives output on click.\n",
    "def show_classify_button(file_path):\n",
    "    classify_b=Button(top,text=\"Classify Image\",command=lambda: classify(file_path),padx=10,pady=5)\n",
    "    classify_b.configure(background='Red', foreground='black',font=('arial',14,'bold'))\n",
    "    classify_b.place(relx=0.79,rely=0.46)\n",
    "#uplaod function that lets test image from local device to be uploaded for classification.\n",
    "def upload_image():\n",
    "    try:\n",
    "        file_path=filedialog.askopenfilename()\n",
    "        uploaded=Image.open(file_path)\n",
    "        uploaded.thumbnail(((top.winfo_width()/0.1),(top.winfo_height()/0.1)))\n",
    "        im=ImageTk.PhotoImage(uploaded)\n",
    "        sign_image.configure(image=im)\n",
    "        sign_image.image=im\n",
    "        label.configure(text='')\n",
    "        show_classify_button(file_path)\n",
    "    except:\n",
    "        pass\n",
    "#upload button ui created that lets us upload test image for classification on click.\n",
    "upload=Button(top,text=\"Upload an image\",command=upload_image,padx=10,pady=5)\n",
    "upload.configure(background='Red', foreground='black',font=('arial',14,'bold'))\n",
    "upload.pack(side=BOTTOM,pady=50)\n",
    "sign_image.pack(side=BOTTOM,expand=True)\n",
    "label.pack(side=BOTTOM,expand=True)\n",
    "#heading and loops\n",
    "heading = Label(top, text=\"Know Your Traffic Sign\",pady=20, font=('arial',20,'bold'))\n",
    "heading.configure(background='#CDCDCD',foreground='black')\n",
    "heading.pack()\n",
    "top.mainloop()"
   ]
  }
 ],
 "metadata": {
  "kernelspec": {
   "display_name": "Python 3 (ipykernel)",
   "language": "python",
   "name": "python3"
  },
  "language_info": {
   "codemirror_mode": {
    "name": "ipython",
    "version": 3
   },
   "file_extension": ".py",
   "mimetype": "text/x-python",
   "name": "python",
   "nbconvert_exporter": "python",
   "pygments_lexer": "ipython3",
   "version": "3.11.5"
  }
 },
 "nbformat": 4,
 "nbformat_minor": 5
}
